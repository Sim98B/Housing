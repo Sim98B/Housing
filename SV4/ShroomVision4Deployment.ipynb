{
  "nbformat": 4,
  "nbformat_minor": 0,
  "metadata": {
    "colab": {
      "provenance": [],
      "authorship_tag": "ABX9TyM6DiKODjVtN5xYTMhVkSJv",
      "include_colab_link": true
    },
    "kernelspec": {
      "name": "python3",
      "display_name": "Python 3"
    },
    "language_info": {
      "name": "python"
    }
  },
  "cells": [
    {
      "cell_type": "markdown",
      "metadata": {
        "id": "view-in-github",
        "colab_type": "text"
      },
      "source": [
        "<a href=\"https://colab.research.google.com/github/Sim98B/Housing/blob/main/SV4/ShroomVision4Deployment.ipynb\" target=\"_parent\"><img src=\"https://colab.research.google.com/assets/colab-badge.svg\" alt=\"Open In Colab\"/></a>"
      ]
    },
    {
      "cell_type": "markdown",
      "source": [
        "# Shroom Vision 4 Deployment"
      ],
      "metadata": {
        "id": "sex8KUYgAN4J"
      }
    },
    {
      "cell_type": "markdown",
      "source": [
        "## Setup"
      ],
      "metadata": {
        "id": "jp4fgiAfAUBp"
      }
    },
    {
      "cell_type": "code",
      "execution_count": 1,
      "metadata": {
        "colab": {
          "base_uri": "https://localhost:8080/"
        },
        "id": "OIZ_cZMU_8VF",
        "outputId": "181cda00-1bf4-4838-bc78-9e4206bf2287"
      },
      "outputs": [
        {
          "output_type": "stream",
          "name": "stdout",
          "text": [
            "torch: 2.1.0+cu118\n",
            "torchvision: 0.16.0+cu118\n",
            "[INFO] Torch and Torchvision not installed, downloading\n",
            "Cloning into 'ShroomVision'...\n",
            "remote: Enumerating objects: 3208, done.\u001b[K\n",
            "remote: Counting objects: 100% (20/20), done.\u001b[K\n",
            "remote: Compressing objects: 100% (20/20), done.\u001b[K\n",
            "remote: Total 3208 (delta 7), reused 3 (delta 0), pack-reused 3188\u001b[K\n",
            "Receiving objects: 100% (3208/3208), 468.75 MiB | 34.37 MiB/s, done.\n",
            "Resolving deltas: 100% (662/662), done.\n",
            "Updating files: 100% (1733/1733), done.\n"
          ]
        }
      ],
      "source": [
        "# Importing main libraries\n",
        "try:\n",
        "  import torch\n",
        "  print(f\"torch: {torch.__version__}\")\n",
        "  import torchvision\n",
        "  print(f\"torchvision: {torchvision.__version__}\")\n",
        "  import torchinfo\n",
        "  print(f\"torchinfo: {torchinfo.__version__}\")\n",
        "except:\n",
        "  print(\"[INFO] Torch and Torchvision not installed, downloading\")\n",
        "  !pip install -q torch torchvision torchinfo\n",
        "  import torch\n",
        "  import torchvision\n",
        "  import torchinfo\n",
        "\n",
        "# Utilities\n",
        "import os\n",
        "from pathlib import Path\n",
        "import requests\n",
        "import shutil\n",
        "from timeit import default_timer as timer\n",
        "import warnings\n",
        "warnings.filterwarnings(\"ignore\")\n",
        "\n",
        "# Cloning GitHub repository\n",
        "!git clone https://github.com/Sim98B/ShroomVision\n",
        "!mv ShroomVision/Modules/Libraries .\n",
        "!mv ShroomVision/Data .\n",
        "!mv ShroomVision/SV4/Models .\n",
        "\n",
        "# Custom functions\n",
        "from Libraries import data, extractors, model_ops, utils\n",
        "\n",
        "shutil.rmtree(\"ShroomVision\")"
      ]
    },
    {
      "cell_type": "code",
      "source": [],
      "metadata": {
        "id": "6bVhFdBPAcDI"
      },
      "execution_count": null,
      "outputs": []
    }
  ]
}